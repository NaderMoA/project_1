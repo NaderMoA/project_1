{
 "cells": [
  {
   "cell_type": "code",
   "execution_count": 1,
   "id": "f08c87cc",
   "metadata": {},
   "outputs": [
    {
     "ename": "ModuleNotFoundError",
     "evalue": "No module named 'api_keys'",
     "output_type": "error",
     "traceback": [
      "\u001b[1;31m---------------------------------------------------------------------------\u001b[0m",
      "\u001b[1;31mModuleNotFoundError\u001b[0m                       Traceback (most recent call last)",
      "Cell \u001b[1;32mIn[1], line 4\u001b[0m\n\u001b[0;32m      2\u001b[0m \u001b[38;5;28;01mfrom\u001b[39;00m \u001b[38;5;21;01mpathlib\u001b[39;00m \u001b[38;5;28;01mimport\u001b[39;00m Path\n\u001b[0;32m      3\u001b[0m \u001b[38;5;28;01mimport\u001b[39;00m \u001b[38;5;21;01mrequests\u001b[39;00m\n\u001b[1;32m----> 4\u001b[0m \u001b[38;5;28;01mfrom\u001b[39;00m \u001b[38;5;21;01mapi_keys\u001b[39;00m \u001b[38;5;28;01mimport\u001b[39;00m weather_api_key\n\u001b[0;32m      5\u001b[0m \u001b[38;5;28;01mfrom\u001b[39;00m \u001b[38;5;21;01mpprint\u001b[39;00m \u001b[38;5;28;01mimport\u001b[39;00m pprint\n\u001b[0;32m      6\u001b[0m \u001b[38;5;28;01mimport\u001b[39;00m \u001b[38;5;21;01mhvplot\u001b[39;00m\u001b[38;5;21;01m.\u001b[39;00m\u001b[38;5;21;01mpandas\u001b[39;00m\n",
      "\u001b[1;31mModuleNotFoundError\u001b[0m: No module named 'api_keys'"
     ]
    }
   ],
   "source": [
    "import pandas as pd\n",
    "from pathlib import Path\n",
    "import requests\n",
    "from api_keys import weather_api_key\n",
    "from pprint import pprint\n",
    "import hvplot.pandas\n",
    "import matplotlib.pyplot as plt\n",
    "import numpy as np"
   ]
  },
  {
   "cell_type": "code",
   "execution_count": null,
   "id": "4e3fadd2",
   "metadata": {},
   "outputs": [],
   "source": [
    "#reading the csv files and creating dataframe \n",
    "\n",
    "all_indutries_df_file = pd.DataFrame(pd.read_csv(\"GDP_Resources/all_industries-eng.csv\"))\n",
    "agri_df_file = pd.DataFrame(pd.read_csv(\"GDP_Resources/agri_eng.csv\"))\n",
    "constr_df_file = pd.DataFrame(pd.read_csv(\"GDP_Resources/construction-eng.csv\"))\n",
    "energy_df_file = pd.DataFrame(pd.read_csv(\"GDP_Resources/energy-eng.csv\"))\n",
    "finance_df_file = pd.DataFrame(pd.read_csv(\"GDP_Resources/finance_insurance-eng.csv\"))\n",
    "good_df_file = pd.DataFrame(pd.read_csv(\"GDP_Resources/good_producing-eng.csv\"))\n",
    "health_df_file = pd.DataFrame(pd.read_csv(\"GDP_Resources/health_care-eng.csv\"))"
   ]
  },
  {
   "cell_type": "code",
   "execution_count": null,
   "id": "27aa6bf7",
   "metadata": {},
   "outputs": [],
   "source": [
    "#dropping the empty rows from the dataframes\n",
    "\n",
    "all_indutries_df_drop = all_indutries_df_file.dropna(how=\"any\")\n",
    "agri_df_drop = agri_df_file.dropna(how=\"any\")\n",
    "constr_df_drop = constr_df_file.dropna(how=\"any\")\n",
    "energy_df_drop = energy_df_file.dropna(how=\"any\")\n",
    "finance_df_drop = finance_df_file.dropna(how=\"any\")\n",
    "good_df_drop = good_df_file.dropna(how=\"any\")\n",
    "health_df_drop = health_df_file.dropna(how=\"any\")"
   ]
  },
  {
   "cell_type": "code",
   "execution_count": null,
   "id": "3955f17a",
   "metadata": {},
   "outputs": [],
   "source": [
    "#renaming the columns \n",
    "all_indutries_df_clean = all_indutries_df_drop.rename(columns={\n",
    "    \"Gross domestic product (GDP) at basic prices, by industry, provinces and territories, growth rates (x 1,000,000) c 1 2 3 4 5 6 7\": \"Geography\",\n",
    "    \"Unnamed: 1\": \"2018\",\n",
    "    \"Unnamed: 2\": \"2019\",\n",
    "    \"Unnamed: 3\": \"2020\",\n",
    "    \"Unnamed: 4\": \"2021\",\n",
    "    \"Unnamed: 5\": \"2022\"\n",
    "})    \n",
    "\n",
    "agri_df_clean = agri_df_drop.rename(columns={\n",
    "    \"Gross domestic product (GDP) at basic prices, by industry, provinces and territories (x 1,000,000) c 1 2 3 4 5 6 7\": \"Geography\",\n",
    "    \"Unnamed: 1\": \"2018\",\n",
    "    \"Unnamed: 2\": \"2019\",\n",
    "    \"Unnamed: 3\": \"2020\",\n",
    "    \"Unnamed: 4\": \"2021\",\n",
    "    \"Unnamed: 5\": \"2022\"\n",
    "})\n",
    "constr_df_clean = constr_df_drop.rename(columns={\n",
    "    \"Gross domestic product (GDP) at basic prices, by industry, provinces and territories, growth rates (x 1,000,000) c 1 2 3 4 5 6 7\": \"Geography\",\n",
    "    \"Unnamed: 1\": \"2018\",\n",
    "    \"Unnamed: 2\": \"2019\",\n",
    "    \"Unnamed: 3\": \"2020\",\n",
    "    \"Unnamed: 4\": \"2021\",\n",
    "    \"Unnamed: 5\": \"2022\"\n",
    "})\n",
    "energy_df_clean = energy_df_drop.rename(columns={\n",
    "    \"Gross domestic product (GDP) at basic prices, by industry, provinces and territories, growth rates (x 1,000,000) c 1 2 3 4 5 6 7\": \"Geography\",\n",
    "    \"Unnamed: 1\": \"2018\",\n",
    "    \"Unnamed: 2\": \"2019\",\n",
    "    \"Unnamed: 3\": \"2020\",\n",
    "    \"Unnamed: 4\": \"2021\",\n",
    "    \"Unnamed: 5\": \"2022\"\n",
    "})\n",
    "finance_df_clean = finance_df_drop.rename(columns={\n",
    "    \"Gross domestic product (GDP) at basic prices, by industry, provinces and territories, growth rates (x 1,000,000) c 1 2 3 4 5 6 7\": \"Geography\",\n",
    "    \"Unnamed: 1\": \"2018\",\n",
    "    \"Unnamed: 2\": \"2019\",\n",
    "    \"Unnamed: 3\": \"2020\",\n",
    "    \"Unnamed: 4\": \"2021\",\n",
    "    \"Unnamed: 5\": \"2022\"\n",
    "})\n",
    "good_df_clean = good_df_drop.rename(columns={\n",
    "    \"Gross domestic product (GDP) at basic prices, by industry, provinces and territories, growth rates (x 1,000,000) c 1 2 3 4 5 6 7\": \"Geography\",\n",
    "    \"Unnamed: 1\": \"2018\",\n",
    "    \"Unnamed: 2\": \"2019\",\n",
    "    \"Unnamed: 3\": \"2020\",\n",
    "    \"Unnamed: 4\": \"2021\",\n",
    "    \"Unnamed: 5\": \"2022\"\n",
    "})\n",
    "health_df_clean = health_df_drop.rename(columns={\n",
    "    \"Gross domestic product (GDP) at basic prices, by industry, provinces and territories, growth rates (x 1,000,000) c 1 2 3 4 5 6 7\": \"Geography\",\n",
    "    \"Unnamed: 1\": \"2018\",\n",
    "    \"Unnamed: 2\": \"2019\",\n",
    "    \"Unnamed: 3\": \"2020\",\n",
    "    \"Unnamed: 4\": \"2021\",\n",
    "    \"Unnamed: 5\": \"2022\"\n",
    "})"
   ]
  },
  {
   "cell_type": "code",
   "execution_count": null,
   "id": "5ad929c4",
   "metadata": {},
   "outputs": [],
   "source": [
    "all_indutries_df = all_indutries_df_clean[1:]\n",
    "agri_df = agri_df_clean[1:]\n",
    "constr_df = constr_df_clean[1:]\n",
    "energy_df = energy_df_clean[1:]\n",
    "finance_df = finance_df_clean[1:]\n",
    "good_df = good_df_clean[1:]\n",
    "health_df = health_df_clean[1:]"
   ]
  },
  {
   "cell_type": "code",
   "execution_count": null,
   "id": "6b2bed61",
   "metadata": {},
   "outputs": [],
   "source": [
    "# removing the commas from the numbers and changing the columns with numbers from object type to float\n",
    "agri_df['2018'] = agri_df['2018'].str.replace(\",\",\"\").astype(float)\n",
    "agri_df['2019'] = agri_df['2019'].str.replace(\",\",\"\").astype(float)\n",
    "agri_df['2020'] = agri_df['2020'].str.replace(\",\",\"\").astype(float)\n",
    "agri_df['2021'] = agri_df['2021'].str.replace(\",\",\"\").astype(float)\n",
    "agri_df['2022'] = agri_df['2022'].str.replace(\",\",\"\").astype(float)\n",
    "#....................................................................\n",
    "constr_df[\"2018\"] = constr_df[\"2018\"].str.replace(\",\",\"\").astype(float)\n",
    "constr_df[\"2019\"] = constr_df[\"2019\"].str.replace(\",\",\"\").astype(float)\n",
    "constr_df[\"2020\"] = constr_df[\"2020\"].str.replace(\",\",\"\").astype(float)\n",
    "constr_df[\"2021\"] = constr_df[\"2021\"].str.replace(\",\",\"\").astype(float)\n",
    "constr_df[\"2022\"] = constr_df[\"2022\"].str.replace(\",\",\"\").astype(float)\n",
    "#.........................................................................\n",
    "energy_df[\"2018\"] = energy_df[\"2018\"].str.replace(\",\",\"\").astype(float)\n",
    "energy_df[\"2019\"] = energy_df[\"2019\"].str.replace(\",\",\"\").astype(float)\n",
    "energy_df[\"2020\"] = energy_df[\"2020\"].str.replace(\",\",\"\").astype(float)\n",
    "energy_df[\"2021\"] = energy_df[\"2021\"].str.replace(\",\",\"\").astype(float)\n",
    "energy_df[\"2022\"] = energy_df[\"2022\"].str.replace(\",\",\"\").astype(float)\n",
    "#.......................................................................\n",
    "finance_df[\"2018\"] = finance_df[\"2018\"].str.replace(\",\",\"\").astype(float)\n",
    "finance_df[\"2019\"] = finance_df[\"2019\"].str.replace(\",\",\"\").astype(float)\n",
    "finance_df[\"2020\"] = finance_df[\"2020\"].str.replace(\",\",\"\").astype(float)\n",
    "finance_df[\"2021\"] = finance_df[\"2021\"].str.replace(\",\",\"\").astype(float)\n",
    "finance_df[\"2022\"] = finance_df[\"2022\"].str.replace(\",\",\"\").astype(float)\n",
    "#........................................................................\n",
    "good_df[\"2018\"] = good_df[\"2018\"].str.replace(\",\",\"\").astype(float)\n",
    "good_df[\"2019\"] = good_df[\"2019\"].str.replace(\",\",\"\").astype(float)\n",
    "good_df[\"2020\"] = good_df[\"2020\"].str.replace(\",\",\"\").astype(float)\n",
    "good_df[\"2021\"] = good_df[\"2021\"].str.replace(\",\",\"\").astype(float)\n",
    "good_df[\"2022\"] = good_df[\"2022\"].str.replace(\",\",\"\").astype(float)\n",
    "#...................................................................\n",
    "health_df[\"2018\"] = health_df[\"2018\"].str.replace(\",\",\"\").astype(float)\n",
    "health_df[\"2019\"] = health_df[\"2019\"].str.replace(\",\",\"\").astype(float)\n",
    "health_df[\"2020\"] = health_df[\"2020\"].str.replace(\",\",\"\").astype(float)\n",
    "health_df[\"2021\"] = health_df[\"2021\"].str.replace(\",\",\"\").astype(float)\n",
    "health_df[\"2022\"] = health_df[\"2022\"].str.replace(\",\",\"\").astype(float)\n",
    "#......................................................................\n",
    "all_indutries_df[\"2018\"] = all_indutries_df[\"2018\"].str.replace(\",\",\"\").astype(float)\n",
    "all_indutries_df[\"2019\"] = all_indutries_df[\"2019\"].str.replace(\",\",\"\").astype(float)\n",
    "all_indutries_df[\"2020\"] = all_indutries_df[\"2020\"].str.replace(\",\",\"\").astype(float)\n",
    "all_indutries_df[\"2021\"] = all_indutries_df[\"2021\"].str.replace(\",\",\"\").astype(float)\n",
    "all_indutries_df[\"2022\"] = all_indutries_df[\"2022\"].str.replace(\",\",\"\").astype(float)"
   ]
  },
  {
   "cell_type": "code",
   "execution_count": null,
   "id": "dd94b066",
   "metadata": {},
   "outputs": [],
   "source": [
    "#getting the average gdp of each sector for 2018-2022\n",
    "agri_df[\"Agri_gdp\"] = agri_df[[\"2018\",\"2019\",\"2020\",\"2021\",\"2022\"]].mean(axis=\"columns\")\n",
    "constr_df[\"Const_gdp\"] = constr_df[[\"2018\",\"2019\",\"2020\",\"2021\",\"2022\"]].mean(axis=\"columns\")\n",
    "energy_df[\"Energy_gdp\"] = energy_df[[\"2018\",\"2019\",\"2020\",\"2021\",\"2022\"]].mean(axis=\"columns\")\n",
    "finance_df[\"Finance_gdp\"] = finance_df[[\"2018\",\"2019\",\"2020\",\"2021\",\"2022\"]].mean(axis=\"columns\")\n",
    "good_df[\"Goods_gdp\"] = good_df[[\"2018\",\"2019\",\"2020\",\"2021\",\"2022\"]].mean(axis=\"columns\")\n",
    "health_df[\"Health_gdp\"] = health_df[[\"2018\",\"2019\",\"2020\",\"2021\",\"2022\"]].mean(axis=\"columns\")\n",
    "all_indutries_df[\"All_industries_gdp\"] = all_indutries_df[[\"2018\",\"2019\",\"2020\",\"2021\",\"2022\"]].mean(axis=\"columns\")"
   ]
  },
  {
   "cell_type": "code",
   "execution_count": null,
   "id": "37703836",
   "metadata": {},
   "outputs": [],
   "source": [
    "#extracting the column with the mean values and the geography column for merging them into one main dataframe\n",
    "agri_final = agri_df[[\"Geography\",\"Agri_gdp\"]]\n",
    "construct_final = constr_df[[\"Geography\",\"Const_gdp\"]]\n",
    "energy_final = energy_df[[\"Geography\",\"Energy_gdp\"]]\n",
    "finance_final = finance_df[[\"Geography\",\"Finance_gdp\"]]\n",
    "good_final = good_df[[\"Geography\",\"Goods_gdp\"]]\n",
    "health_final = health_df[[\"Geography\",\"Health_gdp\"]]\n",
    "all_industries_final = all_indutries_df[[\"Geography\",\"All_industries_gdp\"]]"
   ]
  },
  {
   "cell_type": "code",
   "execution_count": null,
   "id": "9e2bcf71",
   "metadata": {},
   "outputs": [],
   "source": [
    "#merging the dataframes to get the final dataframe\n",
    "merge_1 = pd.merge(agri_final,construct_final,on=[\"Geography\"])\n",
    "merge_2 = pd.merge(merge_1,energy_final, on=[\"Geography\"])\n",
    "merge_3 = pd.merge(merge_2,finance_final, on=[\"Geography\"])\n",
    "merge_4 = pd.merge(merge_3,good_final, on=[\"Geography\"])\n",
    "merge_5 = pd.merge(merge_4,health_final, on=[\"Geography\"])\n",
    "merge_df = pd.merge(merge_5,all_industries_final, on=[\"Geography\"])\n",
    "merge_df\n",
    "\n"
   ]
  },
  {
   "cell_type": "code",
   "execution_count": null,
   "id": "60456533",
   "metadata": {},
   "outputs": [],
   "source": [
    "#adding a column of each province\"S capital\n",
    "merge_df[\"Capital\"] = [\"St. John's\",\"Charlottetown\",\"Halifax\",\"Fredericton\",\"Quebec City\",\"Toronto\",\"Winnipeg\",\"Regina\",\n",
    "         \"Edmonton\",\"Victoria\",\"Whitehorse\",\"Yellowknife\",\"Iqaluit\"]"
   ]
  },
  {
   "cell_type": "code",
   "execution_count": null,
   "id": "179fe59a",
   "metadata": {},
   "outputs": [],
   "source": [
    "merge_df"
   ]
  },
  {
   "cell_type": "code",
   "execution_count": null,
   "id": "d080b078",
   "metadata": {},
   "outputs": [],
   "source": [
    "#creating 2 cloumns for lat and long and also bulding up url for API\n",
    "merge_df[\"Lat\"] = \"\"\n",
    "merge_df[\"Lon\"] = \"\"\n",
    "base_url = \"https://api.openweathermap.org/data/2.5/weather?\"\n",
    "country_code = \"CA\"\n",
    "api = weather_api_key\n",
    "for index, row in merge_df.iterrows():\n",
    "    city = row[\"Capital\"]\n",
    "    url =f\"{base_url}q={city},{country_code}&appid={api}\"\n",
    "    response = requests.get(url).json()\n",
    "\n",
    "    try:\n",
    "        merge_df.loc[index, \"Lat\"] = response[\"coord\"][\"lat\"]\n",
    "        merge_df.loc[index, \"Lon\"] = response[\"coord\"][\"lon\"]\n",
    "    except (KeyError, IndexError):\n",
    "        merge_df.loc[index, \"Lat\"] = \"Not Found\"\n",
    "        merge_df.loc[index, \"Lon\"] = \"Not Found\"\n",
    "merge_df       "
   ]
  },
  {
   "cell_type": "code",
   "execution_count": null,
   "id": "c432660e",
   "metadata": {},
   "outputs": [],
   "source": [
    "gdp_map = merge_df.hvplot.points(\"Lon\",\"Lat\",geo = True,tiles=\"CartoDark\",coastline=True,scale = 0.06,color=\"Capital\",size=\"All_industries_gdp\",hover_cols=[\"Geography\",\"Capital\",\"All_industries_gdp\"])\n",
    "gdp_map"
   ]
  },
  {
   "cell_type": "code",
   "execution_count": null,
   "id": "688f47f6",
   "metadata": {},
   "outputs": [],
   "source": [
    "hvplot.save(gdp_map, 'gdp_new.png')\n"
   ]
  },
  {
   "cell_type": "code",
   "execution_count": null,
   "id": "7a82635d",
   "metadata": {},
   "outputs": [],
   "source": [
    "!pip install selenium"
   ]
  },
  {
   "cell_type": "code",
   "execution_count": null,
   "id": "2aeea92d",
   "metadata": {},
   "outputs": [],
   "source": [
    "x = merge_df[\"All_industries_gdp\"]\n",
    "labels = merge_df[\"Geography\"]\n",
    "plt.pie(x, labels = labels, radius=1,pctdistance=0.88)\n",
    "plt.pie(merge_df[\"Agri_gdp\"], pctdistance=0.85, radius=0.75,\\n \"Geography\")\n",
    "plt.pie(merge_df[\"Energy_gdp\"], pctdistance=0.8, radius=0.75,\\n \"Geography\")\n",
    "centre =plt.Circle((0,0),0.25, fc=\"white\")\n",
    "fig=plt.gcf()\n",
    "fig.gca().add_artist(centre)\n",
    "plt.show()"
   ]
  },
  {
   "cell_type": "code",
   "execution_count": null,
   "id": "c446503f",
   "metadata": {},
   "outputs": [],
   "source": [
    "sub_size"
   ]
  },
  {
   "cell_type": "code",
   "execution_count": null,
   "id": "db755e25",
   "metadata": {},
   "outputs": [],
   "source": [
    "country = [\"canada\",\"\"]\n",
    "country_gdp = [merge_df[\"All_industries_gdp\"].sum(),0]\n",
    "sub_indust = merge_df[\"Geography\"]\n",
    "sub_size = merge_df[\"All_industries_gdp\"]\n",
    "keshvar = [\"USA\",\"\"]\n",
    "andaze = [500,0]\n",
    "fig, ax = plt.subplots()\n",
    "ax.axis('equal')\n",
    "mypie= ax.pie(country_gdp , radius=1.3, labels=country)\n",
    "# plt.setp( mypie, width=0.3, edgecolor='white')\n",
    "explode = [0.6,0.4,0.3,0.2,0.1,0.1,0,0,0,0,0,0,0]\n",
    "mypie2= ax.pie(merge_df[\"All_industries_gdp\"], radius=1.3-0.3, \n",
    "labels=sub_indust, labeldistance=0.7)\n",
    "# plt.setp( mypie2, width=0.4, edgecolor='white')\n",
    "centre =plt.Circle((0,0),0.7, fc=\"white\")\n",
    "plt.margins(0,0)\n",
    "fig=plt.gcf()\n",
    "fig.gca().add_artist(centre)\n",
    "plt.legend\n",
    "\n",
    "plt.show()"
   ]
  },
  {
   "cell_type": "code",
   "execution_count": null,
   "id": "9f564bd4",
   "metadata": {},
   "outputs": [],
   "source": [
    "merge_df "
   ]
  },
  {
   "cell_type": "code",
   "execution_count": null,
   "id": "5660b375",
   "metadata": {},
   "outputs": [],
   "source": [
    "on = merge_df.iloc[5,4:7].sum()\n",
    "qc = merge_df.iloc[4,4:7].sum()\n",
    "ab = merge_df.iloc[8,4:7].sum()"
   ]
  },
  {
   "cell_type": "code",
   "execution_count": null,
   "id": "41edfc6a",
   "metadata": {},
   "outputs": [],
   "source": [
    "on_f=merge_df.iloc[5,4]\n",
    "on_g=merge_df.iloc[5,5]\n",
    "on_h=merge_df.iloc[5,6]\n",
    "qc_f = merge_df.iloc[4,4]\n",
    "qc_g = merge_df.iloc[4,5]\n",
    "qc_h = merge_df.iloc[4,6]\n",
    "ab_f=merge_df.iloc[8,4]\n",
    "ab_g=merge_df.iloc[8,5]\n",
    "ab_h=merge_df.iloc[8,6]"
   ]
  },
  {
   "cell_type": "code",
   "execution_count": null,
   "id": "3543edd0",
   "metadata": {},
   "outputs": [],
   "source": [
    "main = [on,qc,ab]\n",
    "main_label = [\"ON\",\"QC\",\"AB\"]\n",
    "sub_main = [on_f,on_g,on_h,qc_f,qc_g,qc_h,ab_f,ab_g,ab_h]\n",
    "sub_lab = [\"Finance\",\"Goods\",\"Health\",\"Finance\",\"Goods\",\"Health\",\"Finance\",\"Goods\",\"Health\"]\n",
    "colorset1 = plt.colormaps[\"Pastel2\"]\n",
    "colorset2 = plt.colormaps[\"tab10\"]\n",
    "outer_colors = colorset1([0, 3, 5])\n",
    "inner_colors = colorset2([0,1,2,3,4,5,6,7,8])\n",
    "fig, ax = plt.subplots()\n",
    "ax.axis('equal')\n",
    "\n",
    "outter_pie= ax.pie(main , radius=1.3, labels=main_label,colors=outer_colors)\n",
    "# plt.setp(outter_pie, width=0.3, edgecolor='white')\n",
    "# explode = [0.6,0.4,0.3,0.2,0.1,0.1,0,0,0,0,0,0,0]\n",
    "inner_pie= ax.pie(sub_main, radius=1.3-0.3,labels=sub_lab, labeldistance=0.7,colors=inner_colors)\n",
    "# plt.setp(inner_pie, width=0.1, edgecolor='white')\n",
    "centre =plt.Circle((0,0),0.7, fc=\"white\")\n",
    "plt.margins(0,0)\n",
    "fig=plt.gcf()\n",
    "fig.gca().add_artist(centre)\n",
    "plt.legend\n",
    "\n",
    "plt.show()"
   ]
  },
  {
   "cell_type": "code",
   "execution_count": null,
   "id": "b1b7820f",
   "metadata": {},
   "outputs": [],
   "source": []
  }
 ],
 "metadata": {
  "kernelspec": {
   "display_name": "Python 3 (ipykernel)",
   "language": "python",
   "name": "python3"
  },
  "language_info": {
   "codemirror_mode": {
    "name": "ipython",
    "version": 3
   },
   "file_extension": ".py",
   "mimetype": "text/x-python",
   "name": "python",
   "nbconvert_exporter": "python",
   "pygments_lexer": "ipython3",
   "version": "3.11.5"
  }
 },
 "nbformat": 4,
 "nbformat_minor": 5
}
